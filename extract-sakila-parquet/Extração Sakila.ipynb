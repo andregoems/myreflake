{
 "cells": [
  {
   "cell_type": "code",
   "execution_count": 1,
   "metadata": {},
   "outputs": [],
   "source": [
    "import pandas as pd\n",
    "import MySQLdb # pip install mysqlclient"
   ]
  },
  {
   "cell_type": "code",
   "execution_count": 11,
   "metadata": {},
   "outputs": [],
   "source": [
    "# Conexão com o Mysql\n",
    "MyHost     = 'localhost'\n",
    "MyPortHost = 3306\n",
    "MyUser     = 'root'\n",
    "MyPassword = 'estudo'\n",
    "MyDB       = 'sakila'\n",
    "\n",
    "mysql_cn= MySQLdb.connect(host=MyHost, \n",
    "                          port=MyPortHost,\n",
    "                          user=MyUser,\n",
    "                          passwd=MyPassword, \n",
    "                          db=MyDB)"
   ]
  },
  {
   "cell_type": "code",
   "execution_count": 12,
   "metadata": {},
   "outputs": [],
   "source": [
    "select_tables = \"select table_name from  information_schema.TABLES where TABLE_SCHEMA ='sakila' \"\n",
    "df_mysql = pd.read_sql(select_tables, con=mysql_cn)\n",
    "mysql_cn.close()"
   ]
  },
  {
   "cell_type": "code",
   "execution_count": 71,
   "metadata": {},
   "outputs": [],
   "source": [
    "df_tables = df_mysql.to_dict(orient='list')\n",
    "list_tables = list(dix.values())[0]"
   ]
  },
  {
   "cell_type": "code",
   "execution_count": 77,
   "metadata": {
    "scrolled": true
   },
   "outputs": [
    {
     "name": "stdout",
     "output_type": "stream",
     "text": [
      "actor\n",
      "actor_info\n",
      "address\n",
      "category\n",
      "city\n",
      "country\n",
      "customer\n",
      "customer_list\n",
      "film\n",
      "film_actor\n",
      "film_category\n",
      "film_list\n",
      "film_text\n",
      "inventory\n",
      "language\n",
      "nicer_but_slower_film_list\n",
      "payment\n",
      "rental\n",
      "sales_by_film_category\n",
      "sales_by_store\n",
      "staff\n",
      "staff_list\n",
      "store\n"
     ]
    }
   ],
   "source": [
    "for i in range(len(list_tables)):\n",
    "    print(list_tables[i])"
   ]
  },
  {
   "cell_type": "code",
   "execution_count": null,
   "metadata": {},
   "outputs": [],
   "source": []
  },
  {
   "cell_type": "code",
   "execution_count": null,
   "metadata": {},
   "outputs": [],
   "source": []
  },
  {
   "cell_type": "code",
   "execution_count": null,
   "metadata": {},
   "outputs": [],
   "source": []
  }
 ],
 "metadata": {
  "kernelspec": {
   "display_name": "Python 3",
   "language": "python",
   "name": "python3"
  },
  "language_info": {
   "codemirror_mode": {
    "name": "ipython",
    "version": 3
   },
   "file_extension": ".py",
   "mimetype": "text/x-python",
   "name": "python",
   "nbconvert_exporter": "python",
   "pygments_lexer": "ipython3",
   "version": "3.6.5"
  }
 },
 "nbformat": 4,
 "nbformat_minor": 2
}
